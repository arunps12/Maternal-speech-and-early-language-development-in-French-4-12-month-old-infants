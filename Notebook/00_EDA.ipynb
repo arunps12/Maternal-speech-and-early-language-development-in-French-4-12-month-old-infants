{
 "cells": [
  {
   "cell_type": "code",
   "execution_count": 51,
   "metadata": {},
   "outputs": [],
   "source": [
    "import os\n",
    "import numpy as np\n",
    "import pandas as pd"
   ]
  },
  {
   "cell_type": "code",
   "execution_count": 52,
   "metadata": {},
   "outputs": [
    {
     "name": "stdout",
     "output_type": "stream",
     "text": [
      "The autoreload extension is already loaded. To reload it, use:\n",
      "  %reload_ext autoreload\n"
     ]
    }
   ],
   "source": [
    "%load_ext autoreload\n",
    "%autoreload 2"
   ]
  },
  {
   "cell_type": "code",
   "execution_count": 53,
   "metadata": {},
   "outputs": [],
   "source": [
    "import sys\n",
    "sys.path.append(os.path.abspath(os.path.join('..')))"
   ]
  },
  {
   "cell_type": "code",
   "execution_count": 54,
   "metadata": {},
   "outputs": [],
   "source": [
    "from path import *\n",
    "from utils import *"
   ]
  },
  {
   "cell_type": "code",
   "execution_count": 55,
   "metadata": {},
   "outputs": [],
   "source": [
    "df_feat = pd.read_excel(feat_file)"
   ]
  },
  {
   "cell_type": "code",
   "execution_count": 56,
   "metadata": {},
   "outputs": [
    {
     "data": {
      "text/html": [
       "<div>\n",
       "<style scoped>\n",
       "    .dataframe tbody tr th:only-of-type {\n",
       "        vertical-align: middle;\n",
       "    }\n",
       "\n",
       "    .dataframe tbody tr th {\n",
       "        vertical-align: top;\n",
       "    }\n",
       "\n",
       "    .dataframe thead th {\n",
       "        text-align: right;\n",
       "    }\n",
       "</style>\n",
       "<table border=\"1\" class=\"dataframe\">\n",
       "  <thead>\n",
       "    <tr style=\"text-align: right;\">\n",
       "      <th></th>\n",
       "      <th>Unnamed: 0.1</th>\n",
       "      <th>SPK_id</th>\n",
       "      <th>Unnamed: 0</th>\n",
       "      <th>SES</th>\n",
       "      <th>SEX</th>\n",
       "      <th>AgeInDays</th>\n",
       "      <th>age_in_mois</th>\n",
       "      <th>SpeechType</th>\n",
       "      <th>vowels</th>\n",
       "      <th>duration</th>\n",
       "      <th>MinF0Hz</th>\n",
       "      <th>MaxF0Hz</th>\n",
       "      <th>meanF0Hz</th>\n",
       "      <th>f1_mean</th>\n",
       "      <th>f2_mean</th>\n",
       "      <th>f3_mean</th>\n",
       "      <th>f4_mean</th>\n",
       "    </tr>\n",
       "  </thead>\n",
       "  <tbody>\n",
       "    <tr>\n",
       "      <th>0</th>\n",
       "      <td>10231</td>\n",
       "      <td>C083</td>\n",
       "      <td>10231</td>\n",
       "      <td>5</td>\n",
       "      <td>F</td>\n",
       "      <td>120</td>\n",
       "      <td>4</td>\n",
       "      <td>IDS</td>\n",
       "      <td>on</td>\n",
       "      <td>0.080625</td>\n",
       "      <td>267.005728</td>\n",
       "      <td>271.358561</td>\n",
       "      <td>269.635229</td>\n",
       "      <td>435.859100</td>\n",
       "      <td>905.886108</td>\n",
       "      <td>2016.684448</td>\n",
       "      <td>3215.907227</td>\n",
       "    </tr>\n",
       "    <tr>\n",
       "      <th>1</th>\n",
       "      <td>10232</td>\n",
       "      <td>C083</td>\n",
       "      <td>10232</td>\n",
       "      <td>5</td>\n",
       "      <td>F</td>\n",
       "      <td>120</td>\n",
       "      <td>4</td>\n",
       "      <td>IDS</td>\n",
       "      <td>a</td>\n",
       "      <td>0.118875</td>\n",
       "      <td>334.141502</td>\n",
       "      <td>418.112246</td>\n",
       "      <td>365.762249</td>\n",
       "      <td>733.240478</td>\n",
       "      <td>1998.356201</td>\n",
       "      <td>3124.705811</td>\n",
       "      <td>4457.481934</td>\n",
       "    </tr>\n",
       "    <tr>\n",
       "      <th>2</th>\n",
       "      <td>10233</td>\n",
       "      <td>C083</td>\n",
       "      <td>10233</td>\n",
       "      <td>5</td>\n",
       "      <td>F</td>\n",
       "      <td>120</td>\n",
       "      <td>4</td>\n",
       "      <td>IDS</td>\n",
       "      <td>on</td>\n",
       "      <td>0.370000</td>\n",
       "      <td>244.816960</td>\n",
       "      <td>272.745799</td>\n",
       "      <td>257.093232</td>\n",
       "      <td>581.523438</td>\n",
       "      <td>1800.463257</td>\n",
       "      <td>2705.837402</td>\n",
       "      <td>3537.889160</td>\n",
       "    </tr>\n",
       "    <tr>\n",
       "      <th>3</th>\n",
       "      <td>10234</td>\n",
       "      <td>C083</td>\n",
       "      <td>10234</td>\n",
       "      <td>5</td>\n",
       "      <td>F</td>\n",
       "      <td>120</td>\n",
       "      <td>4</td>\n",
       "      <td>IDS</td>\n",
       "      <td>au</td>\n",
       "      <td>0.130000</td>\n",
       "      <td>385.692754</td>\n",
       "      <td>399.961437</td>\n",
       "      <td>389.193664</td>\n",
       "      <td>522.594971</td>\n",
       "      <td>1729.905396</td>\n",
       "      <td>3019.603271</td>\n",
       "      <td>4110.695801</td>\n",
       "    </tr>\n",
       "    <tr>\n",
       "      <th>4</th>\n",
       "      <td>10235</td>\n",
       "      <td>C083</td>\n",
       "      <td>10235</td>\n",
       "      <td>5</td>\n",
       "      <td>F</td>\n",
       "      <td>120</td>\n",
       "      <td>4</td>\n",
       "      <td>IDS</td>\n",
       "      <td>in</td>\n",
       "      <td>0.103000</td>\n",
       "      <td>373.290302</td>\n",
       "      <td>399.362999</td>\n",
       "      <td>389.671290</td>\n",
       "      <td>591.096924</td>\n",
       "      <td>1545.306152</td>\n",
       "      <td>2429.643066</td>\n",
       "      <td>3449.245850</td>\n",
       "    </tr>\n",
       "    <tr>\n",
       "      <th>...</th>\n",
       "      <td>...</td>\n",
       "      <td>...</td>\n",
       "      <td>...</td>\n",
       "      <td>...</td>\n",
       "      <td>...</td>\n",
       "      <td>...</td>\n",
       "      <td>...</td>\n",
       "      <td>...</td>\n",
       "      <td>...</td>\n",
       "      <td>...</td>\n",
       "      <td>...</td>\n",
       "      <td>...</td>\n",
       "      <td>...</td>\n",
       "      <td>...</td>\n",
       "      <td>...</td>\n",
       "      <td>...</td>\n",
       "      <td>...</td>\n",
       "    </tr>\n",
       "    <tr>\n",
       "      <th>10762</th>\n",
       "      <td>9984</td>\n",
       "      <td>C080</td>\n",
       "      <td>9984</td>\n",
       "      <td>5</td>\n",
       "      <td>M</td>\n",
       "      <td>372</td>\n",
       "      <td>12</td>\n",
       "      <td>ADS</td>\n",
       "      <td>i</td>\n",
       "      <td>0.104688</td>\n",
       "      <td>157.204578</td>\n",
       "      <td>166.187323</td>\n",
       "      <td>161.020240</td>\n",
       "      <td>356.901184</td>\n",
       "      <td>2327.087402</td>\n",
       "      <td>3311.602539</td>\n",
       "      <td>4494.021973</td>\n",
       "    </tr>\n",
       "    <tr>\n",
       "      <th>10763</th>\n",
       "      <td>9985</td>\n",
       "      <td>C080</td>\n",
       "      <td>9985</td>\n",
       "      <td>5</td>\n",
       "      <td>M</td>\n",
       "      <td>372</td>\n",
       "      <td>12</td>\n",
       "      <td>ADS</td>\n",
       "      <td>an</td>\n",
       "      <td>0.068062</td>\n",
       "      <td>138.330594</td>\n",
       "      <td>143.016893</td>\n",
       "      <td>140.427588</td>\n",
       "      <td>501.899078</td>\n",
       "      <td>895.333252</td>\n",
       "      <td>2358.484863</td>\n",
       "      <td>3444.589844</td>\n",
       "    </tr>\n",
       "    <tr>\n",
       "      <th>10764</th>\n",
       "      <td>9986</td>\n",
       "      <td>C080</td>\n",
       "      <td>9986</td>\n",
       "      <td>5</td>\n",
       "      <td>M</td>\n",
       "      <td>372</td>\n",
       "      <td>12</td>\n",
       "      <td>ADS</td>\n",
       "      <td>ai</td>\n",
       "      <td>0.059500</td>\n",
       "      <td>156.527893</td>\n",
       "      <td>187.245213</td>\n",
       "      <td>170.191568</td>\n",
       "      <td>406.867371</td>\n",
       "      <td>1764.433594</td>\n",
       "      <td>2785.945313</td>\n",
       "      <td>3826.652588</td>\n",
       "    </tr>\n",
       "    <tr>\n",
       "      <th>10765</th>\n",
       "      <td>9987</td>\n",
       "      <td>C080</td>\n",
       "      <td>9987</td>\n",
       "      <td>5</td>\n",
       "      <td>M</td>\n",
       "      <td>372</td>\n",
       "      <td>12</td>\n",
       "      <td>ADS</td>\n",
       "      <td>a</td>\n",
       "      <td>0.081000</td>\n",
       "      <td>141.154354</td>\n",
       "      <td>148.879554</td>\n",
       "      <td>143.262969</td>\n",
       "      <td>719.794800</td>\n",
       "      <td>1481.318237</td>\n",
       "      <td>2832.031738</td>\n",
       "      <td>3997.157959</td>\n",
       "    </tr>\n",
       "    <tr>\n",
       "      <th>10766</th>\n",
       "      <td>9988</td>\n",
       "      <td>C080</td>\n",
       "      <td>9988</td>\n",
       "      <td>5</td>\n",
       "      <td>M</td>\n",
       "      <td>372</td>\n",
       "      <td>12</td>\n",
       "      <td>ADS</td>\n",
       "      <td>i</td>\n",
       "      <td>0.058438</td>\n",
       "      <td>163.474370</td>\n",
       "      <td>172.195280</td>\n",
       "      <td>167.431177</td>\n",
       "      <td>390.987854</td>\n",
       "      <td>2455.120361</td>\n",
       "      <td>3303.165283</td>\n",
       "      <td>4289.055176</td>\n",
       "    </tr>\n",
       "  </tbody>\n",
       "</table>\n",
       "<p>10767 rows × 17 columns</p>\n",
       "</div>"
      ],
      "text/plain": [
       "       Unnamed: 0.1 SPK_id  Unnamed: 0  SES SEX  AgeInDays  age_in_mois  \\\n",
       "0             10231   C083       10231    5   F        120            4   \n",
       "1             10232   C083       10232    5   F        120            4   \n",
       "2             10233   C083       10233    5   F        120            4   \n",
       "3             10234   C083       10234    5   F        120            4   \n",
       "4             10235   C083       10235    5   F        120            4   \n",
       "...             ...    ...         ...  ...  ..        ...          ...   \n",
       "10762          9984   C080        9984    5   M        372           12   \n",
       "10763          9985   C080        9985    5   M        372           12   \n",
       "10764          9986   C080        9986    5   M        372           12   \n",
       "10765          9987   C080        9987    5   M        372           12   \n",
       "10766          9988   C080        9988    5   M        372           12   \n",
       "\n",
       "      SpeechType vowels  duration     MinF0Hz     MaxF0Hz    meanF0Hz  \\\n",
       "0            IDS     on  0.080625  267.005728  271.358561  269.635229   \n",
       "1            IDS      a  0.118875  334.141502  418.112246  365.762249   \n",
       "2            IDS     on  0.370000  244.816960  272.745799  257.093232   \n",
       "3            IDS     au  0.130000  385.692754  399.961437  389.193664   \n",
       "4            IDS     in  0.103000  373.290302  399.362999  389.671290   \n",
       "...          ...    ...       ...         ...         ...         ...   \n",
       "10762        ADS      i  0.104688  157.204578  166.187323  161.020240   \n",
       "10763        ADS     an  0.068062  138.330594  143.016893  140.427588   \n",
       "10764        ADS     ai  0.059500  156.527893  187.245213  170.191568   \n",
       "10765        ADS      a  0.081000  141.154354  148.879554  143.262969   \n",
       "10766        ADS      i  0.058438  163.474370  172.195280  167.431177   \n",
       "\n",
       "          f1_mean      f2_mean      f3_mean      f4_mean  \n",
       "0      435.859100   905.886108  2016.684448  3215.907227  \n",
       "1      733.240478  1998.356201  3124.705811  4457.481934  \n",
       "2      581.523438  1800.463257  2705.837402  3537.889160  \n",
       "3      522.594971  1729.905396  3019.603271  4110.695801  \n",
       "4      591.096924  1545.306152  2429.643066  3449.245850  \n",
       "...           ...          ...          ...          ...  \n",
       "10762  356.901184  2327.087402  3311.602539  4494.021973  \n",
       "10763  501.899078   895.333252  2358.484863  3444.589844  \n",
       "10764  406.867371  1764.433594  2785.945313  3826.652588  \n",
       "10765  719.794800  1481.318237  2832.031738  3997.157959  \n",
       "10766  390.987854  2455.120361  3303.165283  4289.055176  \n",
       "\n",
       "[10767 rows x 17 columns]"
      ]
     },
     "execution_count": 56,
     "metadata": {},
     "output_type": "execute_result"
    }
   ],
   "source": [
    "df_feat"
   ]
  },
  {
   "cell_type": "code",
   "execution_count": 25,
   "metadata": {},
   "outputs": [],
   "source": [
    "import matplotlib.pyplot as plt\n",
    "\n",
    "# Assuming you have a DataFrame df_feat loaded with the 'meanF0Hz' column\n",
    "def plot_histogram(data, column_name):\n",
    "    plt.figure(figsize=(8, 6))\n",
    "    plt.hist(data[column_name], bins=30, color='blue', alpha=0.7)\n",
    "    plt.title(f\"Histogram of {column_name}\")\n",
    "    plt.xlabel(column_name)\n",
    "    plt.ylabel(\"Frequency\")\n",
    "    plt.grid(True)\n",
    "    plt.show()"
   ]
  },
  {
   "cell_type": "code",
   "execution_count": 26,
   "metadata": {},
   "outputs": [
    {
     "data": {
      "image/png": "[encoded data removed]",
      "text/plain": [
       "<Figure size 576x432 with 1 Axes>"
      ]
     },
     "metadata": {
      "needs_background": "light"
     },
     "output_type": "display_data"
    }
   ],
   "source": [
    "plot_histogram(df_feat[df_feat['SpeechType'] == 'ADS'], 'meanF0Hz')"
   ]
  },
  {
   "cell_type": "code",
   "execution_count": 27,
   "metadata": {},
   "outputs": [
    {
     "data": {
      "image/png": "[encoded data removed]",
      "text/plain": [
       "<Figure size 576x432 with 1 Axes>"
      ]
     },
     "metadata": {
      "needs_background": "light"
     },
     "output_type": "display_data"
    }
   ],
   "source": [
    "plot_histogram(df_feat[df_feat['SpeechType'] == 'IDS'], 'meanF0Hz')"
   ]
  },
  {
   "cell_type": "code",
   "execution_count": 28,
   "metadata": {},
   "outputs": [
    {
     "data": {
      "image/png": "[encoded data removed]",
      "text/plain": [
       "<Figure size 576x432 with 1 Axes>"
      ]
     },
     "metadata": {
      "needs_background": "light"
     },
     "output_type": "display_data"
    }
   ],
   "source": [
    "plot_histogram(df_feat[df_feat['SpeechType'] == 'ADS'], 'MinF0Hz')"
   ]
  },
  {
   "cell_type": "code",
   "execution_count": 29,
   "metadata": {},
   "outputs": [
    {
     "data": {
      "image/png": "[encoded data removed]",
      "text/plain": [
       "<Figure size 576x432 with 1 Axes>"
      ]
     },
     "metadata": {
      "needs_background": "light"
     },
     "output_type": "display_data"
    }
   ],
   "source": [
    "plot_histogram(df_feat[df_feat['SpeechType'] == 'ADS'], 'MaxF0Hz')"
   ]
  },
  {
   "cell_type": "code",
   "execution_count": 30,
   "metadata": {},
   "outputs": [
    {
     "data": {
      "image/png": "[encoded data removed]",
      "text/plain": [
       "<Figure size 576x432 with 1 Axes>"
      ]
     },
     "metadata": {
      "needs_background": "light"
     },
     "output_type": "display_data"
    }
   ],
   "source": [
    "plot_histogram(df_feat[df_feat['SpeechType'] == 'IDS'], 'MinF0Hz')"
   ]
  },
  {
   "cell_type": "code",
   "execution_count": 32,
   "metadata": {},
   "outputs": [
    {
     "data": {
      "image/png": "[encoded data removed]",
      "text/plain": [
       "<Figure size 576x432 with 1 Axes>"
      ]
     },
     "metadata": {
      "needs_background": "light"
     },
     "output_type": "display_data"
    }
   ],
   "source": [
    "plot_histogram(df_feat[df_feat['SpeechType'] == 'IDS'], 'MaxF0Hz')"
   ]
  },
  {
   "cell_type": "code",
   "execution_count": 33,
   "metadata": {},
   "outputs": [
    {
     "data": {
      "image/png": "[encoded data removed]",
      "text/plain": [
       "<Figure size 576x432 with 1 Axes>"
      ]
     },
     "metadata": {
      "needs_background": "light"
     },
     "output_type": "display_data"
    }
   ],
   "source": [
    "plot_histogram(df_feat[df_feat['SpeechType'] == 'ADS'], 'duration')"
   ]
  },
  {
   "cell_type": "code",
   "execution_count": 34,
   "metadata": {},
   "outputs": [
    {
     "data": {
      "image/png": "[encoded data removed]",
      "text/plain": [
       "<Figure size 576x432 with 1 Axes>"
      ]
     },
     "metadata": {
      "needs_background": "light"
     },
     "output_type": "display_data"
    }
   ],
   "source": [
    "plot_histogram(df_feat[df_feat['SpeechType'] == 'IDS'], 'duration')"
   ]
  },
  {
   "cell_type": "code",
   "execution_count": 37,
   "metadata": {},
   "outputs": [
    {
     "data": {
      "text/plain": [
       "(2.6936875, 0.04025)"
      ]
     },
     "execution_count": 37,
     "metadata": {},
     "output_type": "execute_result"
    }
   ],
   "source": [
    "np.max(df_feat['duration']), np.min(df_feat['duration'])"
   ]
  },
  {
   "cell_type": "code",
   "execution_count": 41,
   "metadata": {},
   "outputs": [],
   "source": [
    "df_feat_IDS = df_feat[df_feat['SpeechType'] == 'IDS'].copy()"
   ]
  },
  {
   "cell_type": "code",
   "execution_count": 42,
   "metadata": {},
   "outputs": [],
   "source": [
    "df_feat_IDS['duration_cent'] =  (df_feat_IDS['duration'] - df_feat_IDS['duration'].mean()) / df_feat_IDS['duration'].std()"
   ]
  },
  {
   "cell_type": "code",
   "execution_count": 43,
   "metadata": {},
   "outputs": [
    {
     "data": {
      "image/png": "[encoded data removed]",
      "text/plain": [
       "<Figure size 576x432 with 1 Axes>"
      ]
     },
     "metadata": {
      "needs_background": "light"
     },
     "output_type": "display_data"
    }
   ],
   "source": [
    "plot_histogram(df_feat_IDS, 'duration_cent')"
   ]
  },
  {
   "cell_type": "code",
   "execution_count": 44,
   "metadata": {},
   "outputs": [],
   "source": [
    "df_feat = df_feat[df_feat['duration'] <= 0.6].reset_index(drop=True)"
   ]
  },
  {
   "cell_type": "code",
   "execution_count": 45,
   "metadata": {},
   "outputs": [
    {
     "data": {
      "text/html": [
       "<div>\n",
       "<style scoped>\n",
       "    .dataframe tbody tr th:only-of-type {\n",
       "        vertical-align: middle;\n",
       "    }\n",
       "\n",
       "    .dataframe tbody tr th {\n",
       "        vertical-align: top;\n",
       "    }\n",
       "\n",
       "    .dataframe thead th {\n",
       "        text-align: right;\n",
       "    }\n",
       "</style>\n",
       "<table border=\"1\" class=\"dataframe\">\n",
       "  <thead>\n",
       "    <tr style=\"text-align: right;\">\n",
       "      <th></th>\n",
       "      <th>Unnamed: 0.1</th>\n",
       "      <th>SPK_id</th>\n",
       "      <th>Unnamed: 0</th>\n",
       "      <th>SES</th>\n",
       "      <th>SEX</th>\n",
       "      <th>AgeInDays</th>\n",
       "      <th>age_in_mois</th>\n",
       "      <th>SpeechType</th>\n",
       "      <th>vowels</th>\n",
       "      <th>duration</th>\n",
       "      <th>MinF0Hz</th>\n",
       "      <th>MaxF0Hz</th>\n",
       "      <th>meanF0Hz</th>\n",
       "      <th>f1_mean</th>\n",
       "      <th>f2_mean</th>\n",
       "      <th>f3_mean</th>\n",
       "      <th>f4_mean</th>\n",
       "      <th>duration_cent</th>\n",
       "    </tr>\n",
       "  </thead>\n",
       "  <tbody>\n",
       "    <tr>\n",
       "      <th>0</th>\n",
       "      <td>10231</td>\n",
       "      <td>C083</td>\n",
       "      <td>10231</td>\n",
       "      <td>5</td>\n",
       "      <td>F</td>\n",
       "      <td>120</td>\n",
       "      <td>4</td>\n",
       "      <td>IDS</td>\n",
       "      <td>on</td>\n",
       "      <td>0.080625</td>\n",
       "      <td>267.005728</td>\n",
       "      <td>271.358561</td>\n",
       "      <td>269.635229</td>\n",
       "      <td>435.859100</td>\n",
       "      <td>905.886108</td>\n",
       "      <td>2016.684448</td>\n",
       "      <td>3215.907227</td>\n",
       "      <td>-0.235717</td>\n",
       "    </tr>\n",
       "    <tr>\n",
       "      <th>1</th>\n",
       "      <td>10232</td>\n",
       "      <td>C083</td>\n",
       "      <td>10232</td>\n",
       "      <td>5</td>\n",
       "      <td>F</td>\n",
       "      <td>120</td>\n",
       "      <td>4</td>\n",
       "      <td>IDS</td>\n",
       "      <td>a</td>\n",
       "      <td>0.118875</td>\n",
       "      <td>334.141502</td>\n",
       "      <td>418.112246</td>\n",
       "      <td>365.762249</td>\n",
       "      <td>733.240478</td>\n",
       "      <td>1998.356201</td>\n",
       "      <td>3124.705811</td>\n",
       "      <td>4457.481934</td>\n",
       "      <td>0.139327</td>\n",
       "    </tr>\n",
       "    <tr>\n",
       "      <th>2</th>\n",
       "      <td>10233</td>\n",
       "      <td>C083</td>\n",
       "      <td>10233</td>\n",
       "      <td>5</td>\n",
       "      <td>F</td>\n",
       "      <td>120</td>\n",
       "      <td>4</td>\n",
       "      <td>IDS</td>\n",
       "      <td>on</td>\n",
       "      <td>0.370000</td>\n",
       "      <td>244.816960</td>\n",
       "      <td>272.745799</td>\n",
       "      <td>257.093232</td>\n",
       "      <td>581.523438</td>\n",
       "      <td>1800.463257</td>\n",
       "      <td>2705.837402</td>\n",
       "      <td>3537.889160</td>\n",
       "      <td>2.601626</td>\n",
       "    </tr>\n",
       "    <tr>\n",
       "      <th>3</th>\n",
       "      <td>10234</td>\n",
       "      <td>C083</td>\n",
       "      <td>10234</td>\n",
       "      <td>5</td>\n",
       "      <td>F</td>\n",
       "      <td>120</td>\n",
       "      <td>4</td>\n",
       "      <td>IDS</td>\n",
       "      <td>au</td>\n",
       "      <td>0.130000</td>\n",
       "      <td>385.692754</td>\n",
       "      <td>399.961437</td>\n",
       "      <td>389.193664</td>\n",
       "      <td>522.594971</td>\n",
       "      <td>1729.905396</td>\n",
       "      <td>3019.603271</td>\n",
       "      <td>4110.695801</td>\n",
       "      <td>0.248408</td>\n",
       "    </tr>\n",
       "    <tr>\n",
       "      <th>4</th>\n",
       "      <td>10235</td>\n",
       "      <td>C083</td>\n",
       "      <td>10235</td>\n",
       "      <td>5</td>\n",
       "      <td>F</td>\n",
       "      <td>120</td>\n",
       "      <td>4</td>\n",
       "      <td>IDS</td>\n",
       "      <td>in</td>\n",
       "      <td>0.103000</td>\n",
       "      <td>373.290302</td>\n",
       "      <td>399.362999</td>\n",
       "      <td>389.671290</td>\n",
       "      <td>591.096924</td>\n",
       "      <td>1545.306152</td>\n",
       "      <td>2429.643066</td>\n",
       "      <td>3449.245850</td>\n",
       "      <td>-0.016329</td>\n",
       "    </tr>\n",
       "    <tr>\n",
       "      <th>...</th>\n",
       "      <td>...</td>\n",
       "      <td>...</td>\n",
       "      <td>...</td>\n",
       "      <td>...</td>\n",
       "      <td>...</td>\n",
       "      <td>...</td>\n",
       "      <td>...</td>\n",
       "      <td>...</td>\n",
       "      <td>...</td>\n",
       "      <td>...</td>\n",
       "      <td>...</td>\n",
       "      <td>...</td>\n",
       "      <td>...</td>\n",
       "      <td>...</td>\n",
       "      <td>...</td>\n",
       "      <td>...</td>\n",
       "      <td>...</td>\n",
       "      <td>...</td>\n",
       "    </tr>\n",
       "    <tr>\n",
       "      <th>10666</th>\n",
       "      <td>9984</td>\n",
       "      <td>C080</td>\n",
       "      <td>9984</td>\n",
       "      <td>5</td>\n",
       "      <td>M</td>\n",
       "      <td>372</td>\n",
       "      <td>12</td>\n",
       "      <td>ADS</td>\n",
       "      <td>i</td>\n",
       "      <td>0.104688</td>\n",
       "      <td>157.204578</td>\n",
       "      <td>166.187323</td>\n",
       "      <td>161.020240</td>\n",
       "      <td>356.901184</td>\n",
       "      <td>2327.087402</td>\n",
       "      <td>3311.602539</td>\n",
       "      <td>4494.021973</td>\n",
       "      <td>0.000217</td>\n",
       "    </tr>\n",
       "    <tr>\n",
       "      <th>10667</th>\n",
       "      <td>9985</td>\n",
       "      <td>C080</td>\n",
       "      <td>9985</td>\n",
       "      <td>5</td>\n",
       "      <td>M</td>\n",
       "      <td>372</td>\n",
       "      <td>12</td>\n",
       "      <td>ADS</td>\n",
       "      <td>an</td>\n",
       "      <td>0.068062</td>\n",
       "      <td>138.330594</td>\n",
       "      <td>143.016893</td>\n",
       "      <td>140.427588</td>\n",
       "      <td>501.899078</td>\n",
       "      <td>895.333252</td>\n",
       "      <td>2358.484863</td>\n",
       "      <td>3444.589844</td>\n",
       "      <td>-0.358894</td>\n",
       "    </tr>\n",
       "    <tr>\n",
       "      <th>10668</th>\n",
       "      <td>9986</td>\n",
       "      <td>C080</td>\n",
       "      <td>9986</td>\n",
       "      <td>5</td>\n",
       "      <td>M</td>\n",
       "      <td>372</td>\n",
       "      <td>12</td>\n",
       "      <td>ADS</td>\n",
       "      <td>ai</td>\n",
       "      <td>0.059500</td>\n",
       "      <td>156.527893</td>\n",
       "      <td>187.245213</td>\n",
       "      <td>170.191568</td>\n",
       "      <td>406.867371</td>\n",
       "      <td>1764.433594</td>\n",
       "      <td>2785.945313</td>\n",
       "      <td>3826.652588</td>\n",
       "      <td>-0.442849</td>\n",
       "    </tr>\n",
       "    <tr>\n",
       "      <th>10669</th>\n",
       "      <td>9987</td>\n",
       "      <td>C080</td>\n",
       "      <td>9987</td>\n",
       "      <td>5</td>\n",
       "      <td>M</td>\n",
       "      <td>372</td>\n",
       "      <td>12</td>\n",
       "      <td>ADS</td>\n",
       "      <td>a</td>\n",
       "      <td>0.081000</td>\n",
       "      <td>141.154354</td>\n",
       "      <td>148.879554</td>\n",
       "      <td>143.262969</td>\n",
       "      <td>719.794800</td>\n",
       "      <td>1481.318237</td>\n",
       "      <td>2832.031738</td>\n",
       "      <td>3997.157959</td>\n",
       "      <td>-0.232040</td>\n",
       "    </tr>\n",
       "    <tr>\n",
       "      <th>10670</th>\n",
       "      <td>9988</td>\n",
       "      <td>C080</td>\n",
       "      <td>9988</td>\n",
       "      <td>5</td>\n",
       "      <td>M</td>\n",
       "      <td>372</td>\n",
       "      <td>12</td>\n",
       "      <td>ADS</td>\n",
       "      <td>i</td>\n",
       "      <td>0.058438</td>\n",
       "      <td>163.474370</td>\n",
       "      <td>172.195280</td>\n",
       "      <td>167.431177</td>\n",
       "      <td>390.987854</td>\n",
       "      <td>2455.120361</td>\n",
       "      <td>3303.165283</td>\n",
       "      <td>4289.055176</td>\n",
       "      <td>-0.453267</td>\n",
       "    </tr>\n",
       "  </tbody>\n",
       "</table>\n",
       "<p>10671 rows × 18 columns</p>\n",
       "</div>"
      ],
      "text/plain": [
       "       Unnamed: 0.1 SPK_id  Unnamed: 0  SES SEX  AgeInDays  age_in_mois  \\\n",
       "0             10231   C083       10231    5   F        120            4   \n",
       "1             10232   C083       10232    5   F        120            4   \n",
       "2             10233   C083       10233    5   F        120            4   \n",
       "3             10234   C083       10234    5   F        120            4   \n",
       "4             10235   C083       10235    5   F        120            4   \n",
       "...             ...    ...         ...  ...  ..        ...          ...   \n",
       "10666          9984   C080        9984    5   M        372           12   \n",
       "10667          9985   C080        9985    5   M        372           12   \n",
       "10668          9986   C080        9986    5   M        372           12   \n",
       "10669          9987   C080        9987    5   M        372           12   \n",
       "10670          9988   C080        9988    5   M        372           12   \n",
       "\n",
       "      SpeechType vowels  duration     MinF0Hz     MaxF0Hz    meanF0Hz  \\\n",
       "0            IDS     on  0.080625  267.005728  271.358561  269.635229   \n",
       "1            IDS      a  0.118875  334.141502  418.112246  365.762249   \n",
       "2            IDS     on  0.370000  244.816960  272.745799  257.093232   \n",
       "3            IDS     au  0.130000  385.692754  399.961437  389.193664   \n",
       "4            IDS     in  0.103000  373.290302  399.362999  389.671290   \n",
       "...          ...    ...       ...         ...         ...         ...   \n",
       "10666        ADS      i  0.104688  157.204578  166.187323  161.020240   \n",
       "10667        ADS     an  0.068062  138.330594  143.016893  140.427588   \n",
       "10668        ADS     ai  0.059500  156.527893  187.245213  170.191568   \n",
       "10669        ADS      a  0.081000  141.154354  148.879554  143.262969   \n",
       "10670        ADS      i  0.058438  163.474370  172.195280  167.431177   \n",
       "\n",
       "          f1_mean      f2_mean      f3_mean      f4_mean  duration_cent  \n",
       "0      435.859100   905.886108  2016.684448  3215.907227      -0.235717  \n",
       "1      733.240478  1998.356201  3124.705811  4457.481934       0.139327  \n",
       "2      581.523438  1800.463257  2705.837402  3537.889160       2.601626  \n",
       "3      522.594971  1729.905396  3019.603271  4110.695801       0.248408  \n",
       "4      591.096924  1545.306152  2429.643066  3449.245850      -0.016329  \n",
       "...           ...          ...          ...          ...            ...  \n",
       "10666  356.901184  2327.087402  3311.602539  4494.021973       0.000217  \n",
       "10667  501.899078   895.333252  2358.484863  3444.589844      -0.358894  \n",
       "10668  406.867371  1764.433594  2785.945313  3826.652588      -0.442849  \n",
       "10669  719.794800  1481.318237  2832.031738  3997.157959      -0.232040  \n",
       "10670  390.987854  2455.120361  3303.165283  4289.055176      -0.453267  \n",
       "\n",
       "[10671 rows x 18 columns]"
      ]
     },
     "execution_count": 45,
     "metadata": {},
     "output_type": "execute_result"
    }
   ],
   "source": [
    "df_feat"
   ]
  },
  {
   "cell_type": "code",
   "execution_count": 46,
   "metadata": {},
   "outputs": [
    {
     "data": {
      "image/png": "[encoded data removed]",
      "text/plain": [
       "<Figure size 576x432 with 1 Axes>"
      ]
     },
     "metadata": {
      "needs_background": "light"
     },
     "output_type": "display_data"
    }
   ],
   "source": [
    "plot_histogram(df_feat[df_feat['SpeechType'] == 'ADS'], 'meanF0Hz')"
   ]
  },
  {
   "cell_type": "code",
   "execution_count": 47,
   "metadata": {},
   "outputs": [
    {
     "data": {
      "image/png": "[encoded data removed]",
      "text/plain": [
       "<Figure size 576x432 with 1 Axes>"
      ]
     },
     "metadata": {
      "needs_background": "light"
     },
     "output_type": "display_data"
    }
   ],
   "source": [
    "plot_histogram(df_feat[df_feat['SpeechType'] == 'IDS'], 'meanF0Hz')"
   ]
  },
  {
   "cell_type": "code",
   "execution_count": 49,
   "metadata": {},
   "outputs": [
    {
     "data": {
      "image/png": "[encoded data removed]",
      "text/plain": [
       "<Figure size 576x432 with 1 Axes>"
      ]
     },
     "metadata": {
      "needs_background": "light"
     },
     "output_type": "display_data"
    }
   ],
   "source": [
    "plot_histogram(df_feat[df_feat['SpeechType'] == 'ADS'], 'duration')"
   ]
  },
  {
   "cell_type": "code",
   "execution_count": 50,
   "metadata": {},
   "outputs": [
    {
     "data": {
      "image/png": "[encoded data removed]",
      "text/plain": [
       "<Figure size 576x432 with 1 Axes>"
      ]
     },
     "metadata": {
      "needs_background": "light"
     },
     "output_type": "display_data"
    }
   ],
   "source": [
    "plot_histogram(df_feat[df_feat['SpeechType'] == 'IDS'], 'duration')"
   ]
  },
  {
   "cell_type": "code",
   "execution_count": 16,
   "metadata": {},
   "outputs": [
    {
     "data": {
      "text/plain": [
       "array(['C083', 'C067', 'C071', 'C069', 'C052', 'C031', 'C028', 'C035',\n",
       "       'C054', 'C065', 'C062', 'C077', 'C045', 'C044', 'C068', 'C012',\n",
       "       'C037', 'C09', 'C072', 'C053', 'C056', 'C078', 'C023', 'C057',\n",
       "       'C080', 'C061', 'C010'], dtype=object)"
      ]
     },
     "execution_count": 16,
     "metadata": {},
     "output_type": "execute_result"
    }
   ],
   "source": [
    "df_feat['SPK_id'].unique()"
   ]
  },
  {
   "cell_type": "code",
   "execution_count": 23,
   "metadata": {},
   "outputs": [
    {
     "data": {
      "text/plain": [
       "27"
      ]
     },
     "execution_count": 23,
     "metadata": {},
     "output_type": "execute_result"
    }
   ],
   "source": [
    "df_feat['SPK_id'].nunique()"
   ]
  },
  {
   "cell_type": "code",
   "execution_count": 17,
   "metadata": {},
   "outputs": [
    {
     "data": {
      "text/plain": [
       "array(['C083', 'C069', 'C052', 'C028', 'C035', 'C065', 'C077', 'C044',\n",
       "       'C068', 'C062', 'C054', 'C071', 'C09', 'C067', 'C031', 'C045',\n",
       "       'C072', 'C056', 'C078', 'C080', 'C023', 'C057', 'C053', 'C061'],\n",
       "      dtype=object)"
      ]
     },
     "execution_count": 17,
     "metadata": {},
     "output_type": "execute_result"
    }
   ],
   "source": [
    "df_feat[df_feat['SpeechType'] == 'ADS']['SPK_id'].unique()"
   ]
  },
  {
   "cell_type": "code",
   "execution_count": 24,
   "metadata": {},
   "outputs": [
    {
     "data": {
      "text/plain": [
       "24"
      ]
     },
     "execution_count": 24,
     "metadata": {},
     "output_type": "execute_result"
    }
   ],
   "source": [
    "df_feat[df_feat['SpeechType'] == 'ADS']['SPK_id'].nunique()"
   ]
  },
  {
   "cell_type": "code",
   "execution_count": 18,
   "metadata": {},
   "outputs": [
    {
     "data": {
      "text/plain": [
       "array(['C083', 'C067', 'C071', 'C069', 'C052', 'C031', 'C028', 'C035',\n",
       "       'C054', 'C065', 'C062', 'C077', 'C045', 'C044', 'C068', 'C012',\n",
       "       'C037', 'C09', 'C072', 'C053', 'C056', 'C078', 'C023', 'C057',\n",
       "       'C080', 'C061', 'C010'], dtype=object)"
      ]
     },
     "execution_count": 18,
     "metadata": {},
     "output_type": "execute_result"
    }
   ],
   "source": [
    "df_feat[df_feat['SpeechType'] == 'IDS']['SPK_id'].unique()"
   ]
  },
  {
   "cell_type": "code",
   "execution_count": 25,
   "metadata": {},
   "outputs": [
    {
     "data": {
      "text/plain": [
       "27"
      ]
     },
     "execution_count": 25,
     "metadata": {},
     "output_type": "execute_result"
    }
   ],
   "source": [
    "df_feat[df_feat['SpeechType'] == 'IDS']['SPK_id'].nunique()"
   ]
  },
  {
   "cell_type": "code",
   "execution_count": 19,
   "metadata": {},
   "outputs": [
    {
     "data": {
      "text/plain": [
       "1606"
      ]
     },
     "execution_count": 19,
     "metadata": {},
     "output_type": "execute_result"
    }
   ],
   "source": [
    "df_feat[df_feat['SpeechType'] == 'ADS']['SPK_id'].count()"
   ]
  },
  {
   "cell_type": "code",
   "execution_count": 20,
   "metadata": {},
   "outputs": [
    {
     "data": {
      "text/plain": [
       "9161"
      ]
     },
     "execution_count": 20,
     "metadata": {},
     "output_type": "execute_result"
    }
   ],
   "source": [
    "df_feat[df_feat['SpeechType'] == 'IDS']['SPK_id'].count()"
   ]
  },
  {
   "cell_type": "code",
   "execution_count": 22,
   "metadata": {},
   "outputs": [
    {
     "data": {
      "text/plain": [
       "SPK_id\n",
       "C023     25\n",
       "C028     60\n",
       "C031    115\n",
       "C035    113\n",
       "C044    105\n",
       "C045      4\n",
       "C052     20\n",
       "C053    109\n",
       "C054     88\n",
       "C056     30\n",
       "C057    130\n",
       "C061      1\n",
       "C062     14\n",
       "C065     41\n",
       "C067     61\n",
       "C068     22\n",
       "C069     97\n",
       "C071     45\n",
       "C072     84\n",
       "C077     41\n",
       "C078     18\n",
       "C080    143\n",
       "C083    153\n",
       "C09      87\n",
       "dtype: int64"
      ]
     },
     "execution_count": 22,
     "metadata": {},
     "output_type": "execute_result"
    }
   ],
   "source": [
    "df_feat[df_feat['SpeechType'] == 'ADS'].groupby('SPK_id').size()"
   ]
  },
  {
   "cell_type": "code",
   "execution_count": 26,
   "metadata": {},
   "outputs": [
    {
     "data": {
      "text/plain": [
       "SPK_id\n",
       "C010    213\n",
       "C012    382\n",
       "C023    147\n",
       "C028    411\n",
       "C031    380\n",
       "C035    673\n",
       "C037     94\n",
       "C044    214\n",
       "C045    377\n",
       "C052     45\n",
       "C053    689\n",
       "C054    378\n",
       "C056    556\n",
       "C057    437\n",
       "C061    333\n",
       "C062    189\n",
       "C065    671\n",
       "C067    487\n",
       "C068     57\n",
       "C069    768\n",
       "C071    333\n",
       "C072    307\n",
       "C077    219\n",
       "C078     84\n",
       "C080    179\n",
       "C083    365\n",
       "C09     173\n",
       "dtype: int64"
      ]
     },
     "execution_count": 26,
     "metadata": {},
     "output_type": "execute_result"
    }
   ],
   "source": [
    "df_feat[df_feat['SpeechType'] == 'IDS'].groupby('SPK_id').size()"
   ]
  },
  {
   "cell_type": "code",
   "execution_count": 29,
   "metadata": {},
   "outputs": [
    {
     "data": {
      "text/plain": [
       "array(['on', 'a', 'au', 'in', 'eu', 'e', 'an', 'i', 'ou', 'o', 'oe', 'ai',\n",
       "       'u', 'en'], dtype=object)"
      ]
     },
     "execution_count": 29,
     "metadata": {},
     "output_type": "execute_result"
    }
   ],
   "source": [
    "df_feat['vowels'].unique()"
   ]
  },
  {
   "cell_type": "code",
   "execution_count": 34,
   "metadata": {},
   "outputs": [
    {
     "data": {
      "text/plain": [
       "14"
      ]
     },
     "execution_count": 34,
     "metadata": {},
     "output_type": "execute_result"
    }
   ],
   "source": [
    "df_feat['vowels'].nunique()"
   ]
  },
  {
   "cell_type": "code",
   "execution_count": 28,
   "metadata": {},
   "outputs": [
    {
     "data": {
      "text/plain": [
       "SPK_id  vowels\n",
       "C023    a         4\n",
       "        ai        3\n",
       "        au        2\n",
       "        e         2\n",
       "        i         3\n",
       "                 ..\n",
       "C09     o         3\n",
       "        oe        8\n",
       "        on        4\n",
       "        ou        3\n",
       "        u         1\n",
       "Length: 250, dtype: int64"
      ]
     },
     "execution_count": 28,
     "metadata": {},
     "output_type": "execute_result"
    }
   ],
   "source": [
    "df_feat[df_feat['SpeechType'] == 'ADS'].groupby(['SPK_id', 'vowels']).size()"
   ]
  },
  {
   "cell_type": "code",
   "execution_count": 30,
   "metadata": {},
   "outputs": [
    {
     "data": {
      "text/plain": [
       "SPK_id  vowels\n",
       "C010    a         60\n",
       "        ai        29\n",
       "        an        11\n",
       "        au         8\n",
       "        e         23\n",
       "                  ..\n",
       "C09     o          6\n",
       "        oe        10\n",
       "        on        11\n",
       "        ou        10\n",
       "        u          6\n",
       "Length: 344, dtype: int64"
      ]
     },
     "execution_count": 30,
     "metadata": {},
     "output_type": "execute_result"
    }
   ],
   "source": [
    "df_feat[df_feat['SpeechType'] == 'IDS'].groupby(['SPK_id', 'vowels']).size()"
   ]
  },
  {
   "cell_type": "code",
   "execution_count": 32,
   "metadata": {},
   "outputs": [
    {
     "data": {
      "text/plain": [
       "SPK_id\n",
       "C023     9\n",
       "C028    13\n",
       "C031    13\n",
       "C035    12\n",
       "C044    13\n",
       "C045     3\n",
       "C052     8\n",
       "C053    13\n",
       "C054    12\n",
       "C056    12\n",
       "C057    13\n",
       "C061     1\n",
       "C062     7\n",
       "C065    13\n",
       "C067    13\n",
       "C068     7\n",
       "C069    12\n",
       "C071    10\n",
       "C072    13\n",
       "C077    12\n",
       "C078     4\n",
       "C080    13\n",
       "C083    13\n",
       "C09     11\n",
       "Name: vowels, dtype: int64"
      ]
     },
     "execution_count": 32,
     "metadata": {},
     "output_type": "execute_result"
    }
   ],
   "source": [
    "df_feat[df_feat['SpeechType'] == 'ADS'].groupby('SPK_id')['vowels'].nunique()"
   ]
  },
  {
   "cell_type": "code",
   "execution_count": 33,
   "metadata": {},
   "outputs": [
    {
     "data": {
      "text/plain": [
       "SPK_id\n",
       "C010    12\n",
       "C012    13\n",
       "C023    12\n",
       "C028    13\n",
       "C031    13\n",
       "C035    13\n",
       "C037    11\n",
       "C044    13\n",
       "C045    13\n",
       "C052     9\n",
       "C053    14\n",
       "C054    13\n",
       "C056    13\n",
       "C057    13\n",
       "C061    13\n",
       "C062    13\n",
       "C065    13\n",
       "C067    13\n",
       "C068    13\n",
       "C069    13\n",
       "C071    13\n",
       "C072    13\n",
       "C077    13\n",
       "C078    13\n",
       "C080    13\n",
       "C083    13\n",
       "C09     13\n",
       "Name: vowels, dtype: int64"
      ]
     },
     "execution_count": 33,
     "metadata": {},
     "output_type": "execute_result"
    }
   ],
   "source": [
    "df_feat[df_feat['SpeechType'] == 'IDS'].groupby('SPK_id')['vowels'].nunique()"
   ]
  },
  {
   "cell_type": "code",
   "execution_count": 35,
   "metadata": {},
   "outputs": [],
   "source": [
    "target_vowel_catg = ['a', 'ai', 'au', 'e', 'eu', 'i', 'o', 'oe', 'ou', 'u']"
   ]
  },
  {
   "cell_type": "code",
   "execution_count": 43,
   "metadata": {},
   "outputs": [
    {
     "data": {
      "text/plain": [
       "SPK_id\n",
       "C023     7\n",
       "C028    10\n",
       "C031    10\n",
       "C035     9\n",
       "C044    10\n",
       "C045     3\n",
       "C052     7\n",
       "C053    10\n",
       "C054     9\n",
       "C056     9\n",
       "C057    10\n",
       "C061     1\n",
       "C062     5\n",
       "C065    10\n",
       "C067    10\n",
       "C068     5\n",
       "C069     9\n",
       "C071     8\n",
       "C072    10\n",
       "C077     9\n",
       "C078     4\n",
       "C080    10\n",
       "C083    10\n",
       "C09      9\n",
       "Name: vowels, dtype: int64"
      ]
     },
     "execution_count": 43,
     "metadata": {},
     "output_type": "execute_result"
    }
   ],
   "source": [
    "df_feat[(df_feat['SpeechType'] == 'ADS') & (df_feat['vowels'].isin(target_vowel_catg))].groupby('SPK_id')['vowels'].nunique()"
   ]
  },
  {
   "cell_type": "code",
   "execution_count": 44,
   "metadata": {},
   "outputs": [
    {
     "data": {
      "text/plain": [
       "SPK_id\n",
       "C010     9\n",
       "C012    10\n",
       "C023     9\n",
       "C028    10\n",
       "C031    10\n",
       "C035    10\n",
       "C037     8\n",
       "C044    10\n",
       "C045    10\n",
       "C052     7\n",
       "C053    10\n",
       "C054    10\n",
       "C056    10\n",
       "C057    10\n",
       "C061    10\n",
       "C062    10\n",
       "C065    10\n",
       "C067    10\n",
       "C068    10\n",
       "C069    10\n",
       "C071    10\n",
       "C072    10\n",
       "C077    10\n",
       "C078    10\n",
       "C080    10\n",
       "C083    10\n",
       "C09     10\n",
       "Name: vowels, dtype: int64"
      ]
     },
     "execution_count": 44,
     "metadata": {},
     "output_type": "execute_result"
    }
   ],
   "source": [
    "df_feat[(df_feat['SpeechType'] == 'IDS') & (df_feat['vowels'].isin(target_vowel_catg))].groupby('SPK_id')['vowels'].nunique()"
   ]
  },
  {
   "cell_type": "code",
   "execution_count": 46,
   "metadata": {},
   "outputs": [
    {
     "data": {
      "text/plain": [
       "Unnamed: 0.1    0\n",
       "SPK_id          0\n",
       "Unnamed: 0      0\n",
       "SES             0\n",
       "SEX             0\n",
       "AgeInDays       0\n",
       "age_in_mois     0\n",
       "SpeechType      0\n",
       "vowels          0\n",
       "duration        0\n",
       "MinF0Hz         0\n",
       "MaxF0Hz         0\n",
       "meanF0Hz        0\n",
       "f1_mean         0\n",
       "f2_mean         0\n",
       "f3_mean         0\n",
       "f4_mean         0\n",
       "dtype: int64"
      ]
     },
     "execution_count": 46,
     "metadata": {},
     "output_type": "execute_result"
    }
   ],
   "source": [
    "df_feat.isna().sum()"
   ]
  },
  {
   "cell_type": "code",
   "execution_count": 50,
   "metadata": {},
   "outputs": [
    {
     "data": {
      "text/plain": [
       "SPK_id\n",
       "C010    1\n",
       "C012    1\n",
       "C023    2\n",
       "C028    2\n",
       "C031    2\n",
       "C035    3\n",
       "C037    1\n",
       "C044    2\n",
       "C045    2\n",
       "C052    1\n",
       "C053    3\n",
       "C054    3\n",
       "C056    2\n",
       "C057    3\n",
       "C061    2\n",
       "C062    2\n",
       "C065    3\n",
       "C067    3\n",
       "C068    1\n",
       "C069    3\n",
       "C071    2\n",
       "C072    2\n",
       "C077    2\n",
       "C078    1\n",
       "C080    2\n",
       "C083    3\n",
       "C09     2\n",
       "Name: age_in_mois, dtype: int64"
      ]
     },
     "execution_count": 50,
     "metadata": {},
     "output_type": "execute_result"
    }
   ],
   "source": [
    "df_feat.groupby('SPK_id')['age_in_mois'].nunique()"
   ]
  },
  {
   "cell_type": "code",
   "execution_count": 52,
   "metadata": {},
   "outputs": [
    {
     "data": {
      "text/plain": [
       "array([120, 122, 123, 130, 131, 135, 140, 143, 144, 146, 149, 150, 156,\n",
       "       242, 248, 250, 256, 257, 261, 265, 267, 277, 280, 282, 284, 287,\n",
       "       299, 302, 368, 372, 373, 374, 390, 397, 430, 480, 132, 134, 145,\n",
       "       251, 258, 262, 270, 396, 475, 481], dtype=int64)"
      ]
     },
     "execution_count": 52,
     "metadata": {},
     "output_type": "execute_result"
    }
   ],
   "source": [
    "df_feat['AgeInDays'].unique()"
   ]
  },
  {
   "cell_type": "code",
   "execution_count": null,
   "metadata": {},
   "outputs": [],
   "source": []
  }
 ],
 "metadata": {
  "kernelspec": {
   "display_name": "torch",
   "language": "python",
   "name": "python3"
  },
  "language_info": {
   "codemirror_mode": {
    "name": "ipython",
    "version": 3
   },
   "file_extension": ".py",
   "mimetype": "text/x-python",
   "name": "python",
   "nbconvert_exporter": "python",
   "pygments_lexer": "ipython3",
   "version": "3.10.5"
  }
 },
 "nbformat": 4,
 "nbformat_minor": 2
}
